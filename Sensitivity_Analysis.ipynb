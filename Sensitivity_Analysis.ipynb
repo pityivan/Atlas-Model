{
 "cells": [
  {
   "cell_type": "code",
   "execution_count": 2,
   "metadata": {},
   "outputs": [],
   "source": [
    "from General_Atlas_Simulation import *\n",
    "import pandas as pd\n",
    "import numpy as np\n",
    "import matplotlib.pyplot as plt"
   ]
  },
  {
   "cell_type": "code",
   "execution_count": 3,
   "metadata": {},
   "outputs": [
    {
     "ename": "",
     "evalue": "",
     "output_type": "error",
     "traceback": [
      "\u001b[1;31mThe Kernel crashed while executing code in the current cell or a previous cell. \n",
      "\u001b[1;31mPlease review the code in the cell(s) to identify a possible cause of the failure. \n",
      "\u001b[1;31mClick <a href='https://aka.ms/vscodeJupyterKernelCrash'>here</a> for more info. \n",
      "\u001b[1;31mView Jupyter <a href='command:jupyter.viewOutput'>log</a> for further details."
     ]
    }
   ],
   "source": [
    "excl_list = []\n",
    "np.random.seed()\n",
    "\n",
    "for count in range(50):\n",
    "    # Define base starting variables\n",
    "\n",
    "    W = 100                                 # number of trades\n",
    "    T = 10                                  # time interval\n",
    "    N = W*51                                # number of points per path\n",
    "    i = 10                                  # number of stocks simulated\n",
    "\n",
    "    sigma = np.array([5]*i)                 # rank volatilities\n",
    "    gamma = count+1                               # base drift\n",
    "    g = [-1*gamma]*i                        # rank drifts\n",
    "    g[i-1] = (i-1)*gamma\n",
    "    # init_value = [100]*i                  # initial value of stocks\n",
    "    init_value = generate_init_values(i, g, sigma, 10)\n",
    "\n",
    "    delta = 51                              # trading frequency\n",
    "    pi = [1/i]*i                            # portfolio weights\n",
    "    trials = 100                            # number of trials\n",
    "\n",
    "    # simulate and plot the Atlas Model\n",
    "    X = simulate_atlas(T, N, i, init_value, sigma, gamma, g)\n",
    "    \"\"\"\n",
    "    time_axis = np.linspace(0, T, N)\n",
    "    fig, ax = plt.subplots(1, 1, figsize=(5, 5))\n",
    "    for j in range(i):\n",
    "        plt.plot(time_axis, np.log(X[j]))\n",
    "\n",
    "    df = pd.DataFrame(X)\n",
    "    filepath = \"sample_excel_file.xlsx\"\n",
    "    df.to_excel(filepath, index=False)\n",
    "    \"\"\"\n",
    "\n",
    "    W_excess = np.zeros(trials)\n",
    "    for k in range(trials):\n",
    "        X = simulate_atlas(T, N, i, init_value, sigma, gamma, g)\n",
    "        W_excess[k] = discrete_excess_growth_rate(pi, delta, X, T, N)\n",
    "\n",
    "    df = pd.DataFrame(W_excess)\n",
    "    filepath = f\"atlas_simulation_W,gamma={gamma}.xlsx\"\n",
    "    df.to_excel(filepath, index=False)\n",
    "\n",
    "    excl_list.append(pd.read_excel(filepath))\n",
    "\n",
    "excl_merged = pd.concat(excl_list, axis=1, ignore_index=True)\n",
    "excl_merged.to_excel('atlas_simulation_W,gamma_concat.xlsx', index=False)"
   ]
  },
  {
   "cell_type": "code",
   "execution_count": null,
   "metadata": {},
   "outputs": [
    {
     "data": {
      "text/plain": [
       "'\\ntime_axis2 = np.log(time_axis)\\nfig, ax = plt.subplots(1, 1, figsize=(5, 5))\\nplt.plot(time_axis2, np.log(np.divide(delta_excess, trials)))\\n\\nfig, ax = plt.subplots(1, 1, figsize=(5, 5))\\nplt.plot(time_axis2, np.divide(delta_excess, trials))\\n\\ntime_axis3 = np.sqrt(time_axis)\\nfig, ax = plt.subplots(1, 1, figsize=(5, 5))\\nplt.plot(time_axis3, np.divide(delta_excess, trials))\\n\\nfig, ax = plt.subplots(1, 1, figsize=(5, 5))\\nplt.plot(time_axis, np.log(np.divide(delta_excess, trials)))\\n\\nfig, ax = plt.subplots(1, 1, figsize=(5, 5))\\nplt.plot(time_axis3, np.log(np.divide(delta_excess, trials)))\\n\\nfig, ax = plt.subplots(1, 1, figsize=(5, 5))\\nplt.plot(time_axis3, np.divide(delta_excess, trials))\\n'"
      ]
     },
     "execution_count": 5,
     "metadata": {},
     "output_type": "execute_result"
    }
   ],
   "source": [
    "# Graphs of excess vs delta\n",
    "# print(delta_excess)\n",
    "\n",
    "\"\"\"\n",
    "time_axis2 = np.log(time_axis)\n",
    "fig, ax = plt.subplots(1, 1, figsize=(5, 5))\n",
    "plt.plot(time_axis2, np.log(np.divide(delta_excess, trials)))\n",
    "\n",
    "fig, ax = plt.subplots(1, 1, figsize=(5, 5))\n",
    "plt.plot(time_axis2, np.divide(delta_excess, trials))\n",
    "\n",
    "time_axis3 = np.sqrt(time_axis)\n",
    "fig, ax = plt.subplots(1, 1, figsize=(5, 5))\n",
    "plt.plot(time_axis3, np.divide(delta_excess, trials))\n",
    "\n",
    "fig, ax = plt.subplots(1, 1, figsize=(5, 5))\n",
    "plt.plot(time_axis, np.log(np.divide(delta_excess, trials)))\n",
    "\n",
    "fig, ax = plt.subplots(1, 1, figsize=(5, 5))\n",
    "plt.plot(time_axis3, np.log(np.divide(delta_excess, trials)))\n",
    "\n",
    "fig, ax = plt.subplots(1, 1, figsize=(5, 5))\n",
    "plt.plot(time_axis3, np.divide(delta_excess, trials))\n",
    "\"\"\""
   ]
  },
  {
   "cell_type": "code",
   "execution_count": null,
   "metadata": {},
   "outputs": [
    {
     "data": {
      "text/plain": [
       "'\\ndelta_excess = np.zeros(delta)\\n\\nfor k in range(trials*10):\\n    init_value = generate_init_values(i, g, sigma, 10)\\n    X = simulate_atlas(T, delta+1, i, init_value, sigma, gamma, g)\\n\\n    for j in range(delta):\\n        delta_excess[j] += discrete_excess_growth_rate(pi, j+1, X, T, delta+1, i)\\n\\ntime_axis = list(range(1, delta+1))\\nfig, ax = plt.subplots(1, 1, figsize=(5, 5))\\nplt.plot(time_axis, np.divide(delta_excess, trials*10))\\n'"
      ]
     },
     "execution_count": 6,
     "metadata": {},
     "output_type": "execute_result"
    }
   ],
   "source": [
    "\"\"\"\n",
    "delta_excess = np.zeros(delta)\n",
    "\n",
    "for k in range(trials*10):\n",
    "    init_value = generate_init_values(i, g, sigma, 10)\n",
    "    X = simulate_atlas(T, delta+1, i, init_value, sigma, gamma, g)\n",
    "\n",
    "    for j in range(delta):\n",
    "        delta_excess[j] += discrete_excess_growth_rate(pi, j+1, X, T, delta+1, i)\n",
    "\n",
    "time_axis = list(range(1, delta+1))\n",
    "fig, ax = plt.subplots(1, 1, figsize=(5, 5))\n",
    "plt.plot(time_axis, np.divide(delta_excess, trials*10))\n",
    "\"\"\""
   ]
  },
  {
   "cell_type": "code",
   "execution_count": null,
   "metadata": {},
   "outputs": [],
   "source": [
    "\"\"\"\n",
    "    N_excess = np.zeros(trials)\n",
    "    for k in range(trials):\n",
    "        X = simulate_atlas(T, N, i, init_value, sigma, gamma, g)\n",
    "        N_excess[k] = discrete_excess_growth_rate(pi, delta, X, T, N)\n",
    "\n",
    "    df = pd.DataFrame(N_excess)\n",
    "    filepath = f\"atlas_simulation_N={N}.xlsx\"\n",
    "    df.to_excel(filepath, index=False)\n",
    "\"\"\"\n",
    "\n",
    "\"\"\"\n",
    "    delta_excess = np.zeros(delta)\n",
    "    delta_array = np.zeros((trials, delta))\n",
    "\n",
    "    for k in range(trials):\n",
    "        X = simulate_atlas(T, N, i, init_value, sigma, gamma, g)\n",
    "\n",
    "        for j in range(delta):\n",
    "            delta_array[k][j] = discrete_excess_growth_rate(pi, j+1, X, T, N)\n",
    "            delta_excess[j] += delta_array[k][j]\n",
    "            # delta_excess[j] += discrete_excess_growth_rate(pi, j+1, X, T, N)\n",
    "\n",
    "    # time_axis = list(range(1, delta+1))\n",
    "    # fig, ax = plt.subplots(1, 1, figsize=(5, 5))\n",
    "    # plt.plot(time_axis, np.divide(delta_excess, trials))\n",
    "\n",
    "    df = pd.DataFrame(np.divide(delta_excess, trials))\n",
    "    filepath = f\"atlas_simulation_N={N}.xlsx\"\n",
    "    df.to_excel(filepath, index=False)\n",
    "\n",
    "    df = pd.DataFrame(delta_array)\n",
    "    filepath = f\"atlas_simulation_N={N}_array.xlsx\"\n",
    "    df.to_excel(filepath, index=False)\n",
    "\"\"\""
   ]
  },
  {
   "cell_type": "code",
   "execution_count": 5,
   "metadata": {},
   "outputs": [
    {
     "name": "stdout",
     "output_type": "stream",
     "text": [
      "log sum = 0.9936537946644328\n",
      "discrete excess growth rate = 9.936537946644327\n",
      "continuous excess growth rate = 11.25\n"
     ]
    }
   ],
   "source": [
    "np.random.seed()\n",
    "\n",
    "n = 10\n",
    "g = 5\n",
    "sigma = 5\n",
    "dt = 0.1\n",
    "trials = 1000000\n",
    "expect_result = 0\n",
    "\n",
    "for count in range(trials):\n",
    "    Zn = np.multiply(sigma * np.sqrt(dt), np.random.randn(n))\n",
    "    Zn[n-1] += g*dt\n",
    "\n",
    "    result = np.log(np.sum(np.exp(Zn)))\n",
    "    expect_result += result\n",
    "\n",
    "print( \"log sum = \" + str( (expect_result / trials) - np.log(n) - g*dt/n ) )\n",
    "print( \"discrete excess growth rate = \" + str( ((expect_result / trials) - np.log(n) - g*dt/n) / dt ) )\n",
    "print( \"continuous excess growth rate = \" + str(0.5 * (1-1/n) * sigma * sigma) )"
   ]
  },
  {
   "cell_type": "code",
   "execution_count": 11,
   "metadata": {},
   "outputs": [
    {
     "name": "stdout",
     "output_type": "stream",
     "text": [
      "['atlas_simulation_W=10.xlsx', 'atlas_simulation_W=100.xlsx', 'atlas_simulation_W=105.xlsx', 'atlas_simulation_W=110.xlsx', 'atlas_simulation_W=115.xlsx', 'atlas_simulation_W=120.xlsx', 'atlas_simulation_W=125.xlsx', 'atlas_simulation_W=130.xlsx', 'atlas_simulation_W=135.xlsx', 'atlas_simulation_W=140.xlsx', 'atlas_simulation_W=145.xlsx', 'atlas_simulation_W=15.xlsx', 'atlas_simulation_W=150.xlsx', 'atlas_simulation_W=155.xlsx', 'atlas_simulation_W=160.xlsx', 'atlas_simulation_W=165.xlsx', 'atlas_simulation_W=170.xlsx', 'atlas_simulation_W=175.xlsx', 'atlas_simulation_W=180.xlsx', 'atlas_simulation_W=185.xlsx', 'atlas_simulation_W=190.xlsx', 'atlas_simulation_W=195.xlsx', 'atlas_simulation_W=20.xlsx', 'atlas_simulation_W=200.xlsx', 'atlas_simulation_W=205.xlsx', 'atlas_simulation_W=210.xlsx', 'atlas_simulation_W=215.xlsx', 'atlas_simulation_W=220.xlsx', 'atlas_simulation_W=225.xlsx', 'atlas_simulation_W=230.xlsx', 'atlas_simulation_W=235.xlsx', 'atlas_simulation_W=240.xlsx', 'atlas_simulation_W=245.xlsx', 'atlas_simulation_W=25.xlsx', 'atlas_simulation_W=250.xlsx', 'atlas_simulation_W=30.xlsx', 'atlas_simulation_W=35.xlsx', 'atlas_simulation_W=40.xlsx', 'atlas_simulation_W=45.xlsx', 'atlas_simulation_W=5.xlsx', 'atlas_simulation_W=50.xlsx', 'atlas_simulation_W=55.xlsx', 'atlas_simulation_W=60.xlsx', 'atlas_simulation_W=65.xlsx', 'atlas_simulation_W=70.xlsx', 'atlas_simulation_W=75.xlsx', 'atlas_simulation_W=80.xlsx', 'atlas_simulation_W=85.xlsx', 'atlas_simulation_W=90.xlsx', 'atlas_simulation_W=95.xlsx']\n"
     ]
    }
   ],
   "source": [
    "import glob\n",
    "file_list = glob.glob(\"atlas_simulation_W=*.xlsx\")\n",
    "excl_list = []\n",
    "for file in file_list:\n",
    "    excl_list.append(pd.read_excel(file))\n",
    "\n",
    "excl_merged = pd.concat(excl_list, axis=1, ignore_index=True)\n",
    "excl_merged.to_excel('atlas_simulation_W_concat.xlsx', index=False)"
   ]
  }
 ],
 "metadata": {
  "kernelspec": {
   "display_name": "Python 3",
   "language": "python",
   "name": "python3"
  },
  "language_info": {
   "codemirror_mode": {
    "name": "ipython",
    "version": 3
   },
   "file_extension": ".py",
   "mimetype": "text/x-python",
   "name": "python",
   "nbconvert_exporter": "python",
   "pygments_lexer": "ipython3",
   "version": "3.9.1"
  }
 },
 "nbformat": 4,
 "nbformat_minor": 2
}
